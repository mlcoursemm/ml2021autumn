{
 "cells": [
  {
   "cell_type": "markdown",
   "metadata": {},
   "source": [
    "## Курс \"Машинное обучение\"\n",
    "\n",
    "## Тема занятия: SVR"
   ]
  },
  {
   "cell_type": "markdown",
   "metadata": {},
   "source": [
    "Генерируем данные: sin(x)"
   ]
  },
  {
   "cell_type": "code",
   "execution_count": null,
   "metadata": {},
   "outputs": [],
   "source": [
    "import numpy as np\n",
    "\n",
    "a = -5\n",
    "b = 5\n",
    "N = 100\n",
    "np.random.seed(12345)\n",
    "\n",
    "X = np.sort(np.random.uniform(a, b, (N, 1)), axis=0)\n",
    "y = np.sin(X).flatten()"
   ]
  },
  {
   "cell_type": "markdown",
   "metadata": {},
   "source": [
    "Добавляем случайный равномерный шум в диапазоне [-q, q] каждые k отчетов"
   ]
  },
  {
   "cell_type": "code",
   "execution_count": null,
   "metadata": {},
   "outputs": [],
   "source": [
    "k = 5\n",
    "q = 1.5\n",
    "y[::5] += np.random.uniform(-q, q, N//k) #3 * (0.5 - np.random.rand(N//k))"
   ]
  },
  {
   "cell_type": "markdown",
   "metadata": {},
   "source": [
    "Посмотрим на точки"
   ]
  },
  {
   "cell_type": "code",
   "execution_count": null,
   "metadata": {},
   "outputs": [],
   "source": [
    "import matplotlib.pyplot as plt\n",
    "\n",
    "plt.style.use('seaborn-whitegrid')\n",
    "plt.plot(X, y, 'o', label='sin(x) + noise')\n",
    "plt.title('sin(x) + noise')\n",
    "plt.show()"
   ]
  },
  {
   "cell_type": "markdown",
   "metadata": {},
   "source": [
    "Делим на train / test и затем сортируем по возрастанию X (для вывода графиков)"
   ]
  },
  {
   "cell_type": "code",
   "execution_count": null,
   "metadata": {},
   "outputs": [],
   "source": [
    "from sklearn.model_selection import train_test_split\n",
    "trainX, testX, trainY, testY = train_test_split(X, y, random_state=42, test_size=0.2) # 20% goes to test\n",
    "trainX, testX, trainY, testY = \\\n",
    "    np.sort(trainX, axis=0), \\\n",
    "    np.sort(testX, axis=0), \\\n",
    "    trainY[np.argsort(trainX, axis=0).ravel()], \\\n",
    "    testY[np.argsort(testX, axis=0).ravel()]\n",
    "print(f'trainX={trainX.shape}, trainY={trainY.shape}, testX={testX.shape}, testY={testY.shape}')"
   ]
  },
  {
   "cell_type": "markdown",
   "metadata": {},
   "source": [
    "Посмотрим на:\n",
    "* гребневую регрессию (аналог SVR, но только без epsilon) \n",
    "* SVR с полиномиальным ядром\n",
    "* SVR с ядром RBF "
   ]
  },
  {
   "cell_type": "code",
   "execution_count": null,
   "metadata": {},
   "outputs": [],
   "source": [
    "from sklearn.svm import SVR\n",
    "from sklearn.linear_model import Ridge\n",
    "\n",
    "ridge_m = Ridge(random_state=42)\n",
    "svr_poly_m = SVR(kernel='poly', epsilon=0.1)\n",
    "svr_rbf_m = SVR(kernel='rbf', epsilon=0.1)"
   ]
  },
  {
   "cell_type": "markdown",
   "metadata": {},
   "source": [
    "Зададим сетку гиперпараметров и проведем процедуру кросс-валидации по этой сетке"
   ]
  },
  {
   "cell_type": "code",
   "execution_count": null,
   "metadata": {},
   "outputs": [],
   "source": [
    "from sklearn.model_selection import GridSearchCV\n",
    "\n",
    "degree_grid = [1, 3, 5]\n",
    "C_grid = [100, 1000]\n",
    "alpha_grid = [1 / (2*x) for x in C_grid] # Alpha corresponds to 1 / (2C)\n",
    "\n",
    "svr_grid_rbf = { 'C' : C_grid } # can alter only C\n",
    "svr_grid_poly = { 'C' : C_grid,\n",
    "                'degree' : degree_grid } # can alter C + degree\n",
    "ridge_grid = { 'alpha' : alpha_grid } # can alter only alpha\n",
    "\n",
    "ridge = GridSearchCV (ridge_m, ridge_grid, cv=5, refit=True )\n",
    "ridge.fit(trainX, trainY) \n",
    "print('Best Ridge: ', ridge.best_params_)\n",
    "\n",
    "svr_poly = GridSearchCV (svr_poly_m, svr_grid_poly, cv=5, refit=True )\n",
    "svr_poly.fit(trainX, trainY) \n",
    "print('Best SVR poly: ', svr_poly.best_params_)\n",
    "\n",
    "svr_rbf = GridSearchCV (svr_rbf_m, svr_grid_rbf, cv=5, refit=True )\n",
    "svr_rbf.fit(trainX, trainY) \n",
    "print('Best SVR RBF: ', svr_rbf.best_params_)"
   ]
  },
  {
   "cell_type": "markdown",
   "metadata": {},
   "source": [
    "Посмотрим на результаты как на train (1-ая строка графиков), так и на test (2-ая строка). По столбцам - разные алгоритмы (Ridge, SVR Poly, SVR RBF).\n",
    "\n",
    "Также будем выводить R2-коэффициент (чем ближе к 1, тем точнее модель)."
   ]
  },
  {
   "cell_type": "code",
   "execution_count": null,
   "metadata": {},
   "outputs": [],
   "source": [
    "import matplotlib.pyplot as plt\n",
    "\n",
    "models = [ridge, svr_poly, svr_rbf]\n",
    "kernel_label = ['Ridge', 'SVR Poly', 'SVR RBF']\n",
    "model_color = ['m', 'c', 'g']\n",
    "\n",
    "# 1st row - Train, 2nd row - Test\n",
    "fig, axes = plt.subplots(nrows=2, ncols=3, figsize=(15, 10), sharey=True)\n",
    "\n",
    "# Train\n",
    "for ix, model in enumerate(models):\n",
    "    axes[0, ix].plot(trainX, model.predict(trainX), color=model_color[ix], lw=2,\n",
    "                  label='{} model'.format(kernel_label[ix]))\n",
    "    axes[0, ix].scatter(trainX, trainY, facecolor=\"none\",\n",
    "                     edgecolor=model_color[ix], s=50,\n",
    "                     label='{} train'.format(kernel_label[ix]))\n",
    "    axes[0, ix].legend(loc='upper center', bbox_to_anchor=(0.5, 1.1),\n",
    "                    ncol=1, fancybox=True, shadow=True)\n",
    "    axes[0, ix].set_xlabel(f'R2 coeff = {model.score(trainX, trainY)}')\n",
    "\n",
    "# Test\n",
    "for ix, model in enumerate(models):\n",
    "    axes[1, ix].plot(testX, model.predict(testX), color=model_color[ix], lw=2,\n",
    "                  label='{} model'.format(kernel_label[ix]))\n",
    "    axes[1, ix].scatter(testX, testY, facecolor=\"none\",\n",
    "                     edgecolor=model_color[ix], s=50,\n",
    "                     label='{} test'.format(kernel_label[ix]))\n",
    "    axes[1, ix].legend(loc='upper center', bbox_to_anchor=(0.5, 1.1),\n",
    "                    ncol=1, fancybox=True, shadow=True)\n",
    "    axes[1, ix].set_xlabel(f'R2 coeff = {model.score(testX, testY)}')\n",
    "    \n",
    "fig.text(0.5, 0.04, 'data', ha='center', va='center')\n",
    "fig.text(0.06, 0.5, 'target', ha='center', va='center', rotation='vertical')\n",
    "fig.suptitle(\"Support Vector Regression\", fontsize=14)\n",
    "plt.show()"
   ]
  }
 ],
 "metadata": {
  "kernelspec": {
   "display_name": "Python [conda env:ml]",
   "language": "python",
   "name": "conda-env-ml-py"
  },
  "language_info": {
   "codemirror_mode": {
    "name": "ipython",
    "version": 3
   },
   "file_extension": ".py",
   "mimetype": "text/x-python",
   "name": "python",
   "nbconvert_exporter": "python",
   "pygments_lexer": "ipython3",
   "version": "3.8.8"
  }
 },
 "nbformat": 4,
 "nbformat_minor": 2
}
