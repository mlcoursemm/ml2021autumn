{
 "cells": [
  {
   "cell_type": "markdown",
   "metadata": {},
   "source": [
    "## Курс \"Машинное обучение\"\n",
    "## Тема занятия: ROC/PR-кривые"
   ]
  },
  {
   "cell_type": "markdown",
   "metadata": {},
   "source": [
    "Загрузка библиотек"
   ]
  },
  {
   "cell_type": "code",
   "execution_count": null,
   "metadata": {},
   "outputs": [],
   "source": [
    "import matplotlib.pyplot as plt \n",
    "import numpy as np\n",
    "import sklearn.metrics\n",
    "%matplotlib inline "
   ]
  },
  {
   "cell_type": "markdown",
   "metadata": {},
   "source": [
    "## ROC-кривая"
   ]
  },
  {
   "cell_type": "code",
   "execution_count": null,
   "metadata": {},
   "outputs": [],
   "source": [
    "y = np.array([-1, -1, +1, +1])\n",
    "scores = np.array([0.1, 0.4, 0.35, 0.8])\n",
    "fpr, tpr, thresholds = sklearn.metrics.roc_curve(y, scores, pos_label=+1)"
   ]
  },
  {
   "cell_type": "code",
   "execution_count": null,
   "metadata": {},
   "outputs": [],
   "source": [
    "fig, axes = plt.subplots(1, 2)\n",
    "\n",
    "axes[0].plot(fpr, tpr)\n",
    "axes[0].set_title('ROC')\n",
    "\n",
    "axes[1].plot(thresholds, fpr, 'b-+', label='FPR')\n",
    "axes[1].plot(thresholds, tpr, 'g-x', label='TPR')\n",
    "axes[1].legend()\n",
    "\n",
    "axes[0].set(xlabel=\"FPR\", ylabel=\"TPR\")\n",
    "axes[1].set(xlabel=\"Threshold\")\n",
    "\n",
    "plt.show()"
   ]
  },
  {
   "cell_type": "code",
   "execution_count": null,
   "metadata": {},
   "outputs": [],
   "source": [
    "auroc = sklearn.metrics.roc_auc_score(y, scores) # positive класс - класс с большей меткой (+1)\n",
    "print('AUROC1 =', auroc)\n",
    "print('AUROC2 =', 1/2*1/2+1/2*1)"
   ]
  },
  {
   "cell_type": "markdown",
   "metadata": {},
   "source": [
    "## PR-кривая"
   ]
  },
  {
   "cell_type": "code",
   "execution_count": null,
   "metadata": {},
   "outputs": [],
   "source": [
    "y = np.array([-1, -1, +1, +1])\n",
    "scores = np.array([0.1, 0.4, 0.35, 0.8])\n",
    "p, r, th = sklearn.metrics.precision_recall_curve(y, scores, pos_label=+1)\n",
    "eps = 0.1\n",
    "th = np.append(th, th[-1] + eps)"
   ]
  },
  {
   "cell_type": "code",
   "execution_count": null,
   "metadata": {},
   "outputs": [],
   "source": [
    "fig, axes = plt.subplots(1, 2)\n",
    "\n",
    "axes[0].plot(r, p)\n",
    "axes[0].set_title('PR')\n",
    "\n",
    "axes[1].plot(th, r, 'b-+', label='Recall')\n",
    "axes[1].plot(th, p, 'g-x', label='Precision')\n",
    "axes[1].legend()\n",
    "\n",
    "axes[0].set(xlabel=\"Recall\", ylabel=\"Precision\")\n",
    "axes[1].set(xlabel=\"Threshold\")\n",
    "\n",
    "plt.show()"
   ]
  },
  {
   "cell_type": "code",
   "execution_count": null,
   "metadata": {},
   "outputs": [],
   "source": [
    "auprc = sklearn.metrics.average_precision_score(y, scores, pos_label=+1)\n",
    "print('AUPRC1 =', auprc)\n",
    "print('AUPRC2 =', p[0]*(r[0]-r[1]) + p[1]*(r[1]-r[2]) + p[2]*(r[2]-r[3]))"
   ]
  }
 ],
 "metadata": {
  "kernelspec": {
   "display_name": "Python [conda env:ml]",
   "language": "python",
   "name": "conda-env-ml-py"
  },
  "language_info": {
   "codemirror_mode": {
    "name": "ipython",
    "version": 3
   },
   "file_extension": ".py",
   "mimetype": "text/x-python",
   "name": "python",
   "nbconvert_exporter": "python",
   "pygments_lexer": "ipython3",
   "version": "3.8.8"
  }
 },
 "nbformat": 4,
 "nbformat_minor": 4
}
